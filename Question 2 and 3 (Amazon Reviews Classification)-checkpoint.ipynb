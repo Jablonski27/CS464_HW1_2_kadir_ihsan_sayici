{
 "cells": [
  {
   "cell_type": "code",
   "execution_count": 1,
   "id": "cb16ac7f",
   "metadata": {},
   "outputs": [
    {
     "name": "stdout",
     "output_type": "stream",
     "text": [
      "C:\\Users\\kadir\\Desktop\\4 1\\CS 464\n"
     ]
    }
   ],
   "source": [
    "import numpy as np\n",
    "import pandas as pd\n",
    "import matplotlib.pyplot as plt\n",
    "import datetime\n",
    "import os\n",
    "print(os.getcwd()) # to learn the location in order to store my dataset in the same directory..."
   ]
  },
  {
   "cell_type": "code",
   "execution_count": 2,
   "id": "74eec500",
   "metadata": {},
   "outputs": [],
   "source": [
    "start_time = datetime.datetime.now()\n",
    "file = open(\"x_train.csv\", \"r\")\n",
    "dictionary_for_x = file.readline().split(\" \")"
   ]
  },
  {
   "cell_type": "code",
   "execution_count": 3,
   "id": "4cab2060",
   "metadata": {},
   "outputs": [],
   "source": [
    "x_train = pd.read_csv(\"x_train.csv\", delimiter = \",\")\n",
    "y_train = pd.read_csv(\"y_train.csv\", delimiter = \",\", header = None)\n",
    "x_test = pd.read_csv(\"x_test.csv\", delimiter = \",\")\n",
    "y_test = pd.read_csv(\"y_test.csv\", delimiter = \",\", header = None)"
   ]
  },
  {
   "cell_type": "markdown",
   "id": "3af8c763",
   "metadata": {},
   "source": [
    "# **QUESTION 3.1** \n",
    "---\n",
    "\n",
    "### *Problem Statement:* \n",
    "**1. What are the percentages of each category in the y_train.csv y_test.csv? Draw a pie chart showing percentages.**"
   ]
  },
  {
   "cell_type": "code",
   "execution_count": 4,
   "id": "a629a81d",
   "metadata": {
    "scrolled": true
   },
   "outputs": [
    {
     "name": "stdout",
     "output_type": "stream",
     "text": [
      "0    689\n",
      "1    762\n",
      "2    849\n",
      "Name: 0, dtype: int64\n",
      "0    211\n",
      "1    238\n",
      "2    251\n",
      "Name: 0, dtype: int64\n"
     ]
    }
   ],
   "source": [
    "y_train_frequency = y_train[0].value_counts().sort_index()\n",
    "y_test_frequency = y_test[0].value_counts().sort_index()\n",
    "print(y_train_frequency)\n",
    "print(y_test_frequency)"
   ]
  },
  {
   "cell_type": "code",
   "execution_count": 5,
   "id": "5098e2ff",
   "metadata": {},
   "outputs": [],
   "source": [
    "def plot_pie(frequencies):\n",
    "    class_labels_given = [\"Negative Reviews\", \"Neutral Reviews\", \"Positive Reviews\"]\n",
    "    explodes = 3 * [0.1]\n",
    "    plt.pie(frequencies, labels = class_labels_given, explode = explodes, autopct = '%1.1f%%')\n",
    "    plt.show"
   ]
  },
  {
   "cell_type": "code",
   "execution_count": 6,
   "id": "1325ea49",
   "metadata": {},
   "outputs": [
    {
     "data": {
      "image/png": "[encoded data removed]",
      "text/plain": [
       "<Figure size 432x288 with 1 Axes>"
      ]
     },
     "metadata": {},
     "output_type": "display_data"
    }
   ],
   "source": [
    "plot_pie(y_train_frequency)"
   ]
  },
  {
   "cell_type": "code",
   "execution_count": 7,
   "id": "21cdcfc1",
   "metadata": {},
   "outputs": [
    {
     "data": {
      "image/png": "[encoded data removed]",
      "text/plain": [
       "<Figure size 432x288 with 1 Axes>"
      ]
     },
     "metadata": {},
     "output_type": "display_data"
    }
   ],
   "source": [
    "plot_pie(y_test_frequency)"
   ]
  },
  {
   "cell_type": "markdown",
   "id": "b0f500de",
   "metadata": {},
   "source": [
    "### *Problem Statement:* \n",
    "**2. What is the prior probability of each class?**"
   ]
  },
  {
   "cell_type": "code",
   "execution_count": 8,
   "id": "338ecf2c",
   "metadata": {},
   "outputs": [
    {
     "data": {
      "text/plain": [
       "0    0.299565\n",
       "1    0.331304\n",
       "2    0.369130\n",
       "Name: 0, dtype: float64"
      ]
     },
     "execution_count": 8,
     "metadata": {},
     "output_type": "execute_result"
    }
   ],
   "source": [
    "priors = (y_train_frequency / y_train_frequency.sum())\n",
    "priors # Sum of priors becomes 1, as expected..."
   ]
  },
  {
   "cell_type": "code",
   "execution_count": 9,
   "id": "02b3025f",
   "metadata": {},
   "outputs": [],
   "source": [
    "percentages_train = priors.to_numpy() # to use in Multinomial and Bernoulli Document Models..."
   ]
  },
  {
   "cell_type": "markdown",
   "id": "3260d088",
   "metadata": {},
   "source": [
    "### *Problem Statement:* \n",
    "**3. Is the training set balanced or skewed towards one of the classes? Do you think having an imbalanced training set affects your model? If yes, please explain how it can affect the model briefly.**\n",
    "### *Answer:* \n",
    "**The training set is balanced since the priors are close to each other, so it is not skewed towards one of the classes. Having an imbalanced training set leads to the model predicting the majority class. For example, the prior probability of the class of 2, equivalent to Positive Reviews, would become ½60 (just an assumption), and then we would say that our model is imbalanced.**"
   ]
  },
  {
   "cell_type": "markdown",
   "id": "8c45bd51",
   "metadata": {},
   "source": [
    "**------------------------------------------------------------------------------------------------------------------------------------------------------------------------------------------------------------------**"
   ]
  },
  {
   "cell_type": "markdown",
   "id": "7d62dbf2",
   "metadata": {},
   "source": [
    "### *Problem Statement:* \n",
    "**4. How many times do the words ”good” and ”bad” appear in the training documents with the label ”positive”, including multiple occurrences, and what is the log ratio of their occurrences within those documents, i.e, ln(P(good | Y = positive)) and ln(P(bad | Y = positive))?**"
   ]
  },
  {
   "cell_type": "code",
   "execution_count": 10,
   "id": "d46807e2",
   "metadata": {},
   "outputs": [
    {
     "name": "stdout",
     "output_type": "stream",
     "text": [
      "Number of occurrences of 'good': 207\n",
      "Number of occurrences of 'bad': 12\n",
      "ln(P(good | Y = positive)) = -4.287609775546563\n",
      "ln(P(bad | Y = positive)) = -7.135421919023932\n"
     ]
    }
   ],
   "source": [
    "sum_of_good = x_train[y_train[0] == 2][\"good\"].sum()\n",
    "sum_of_bad = x_train[y_train[0] == 2][\"bad\"].sum()\n",
    "total_words_in_positive_as_2 = x_train[y_train[0] == 2].sum().sum()\n",
    "\n",
    "good_given_positive_as_2 = sum_of_good / total_words_in_positive_as_2\n",
    "bad_given_positive_as_2 = sum_of_bad / total_words_in_positive_as_2\n",
    "\n",
    "log_version_good = np.log(good_given_positive_as_2)\n",
    "log_version_bad = np.log(bad_given_positive_as_2)\n",
    "\n",
    "print(f\"Number of occurrences of 'good': {sum_of_good}\")\n",
    "print(f\"Number of occurrences of 'bad': {sum_of_bad}\")\n",
    "print(f\"ln(P(good | Y = positive)) = {log_version_good}\")\n",
    "print(f\"ln(P(bad | Y = positive)) = {log_version_bad}\")"
   ]
  },
  {
   "cell_type": "markdown",
   "id": "0efdaf92",
   "metadata": {},
   "source": [
    "# **QUESTION 3.2**  and **QUESTION 3.3**\n",
    "**Training Multinomial Document Model with results given as without and with smoothing (alpha = 0, alpha = 1, respectively).**"
   ]
  },
  {
   "cell_type": "code",
   "execution_count": 11,
   "id": "cce7a0e5",
   "metadata": {},
   "outputs": [],
   "source": [
    "def train_multinomial(x_train, y_train, alpha=0):\n",
    "    x_train_np = x_train.to_numpy()\n",
    "    y_train_np = y_train.to_numpy()\n",
    "    no_of_class = len(np.unique(y_train))\n",
    "    no_of_features = x_train.shape[1]  \n",
    "    likelihoods = np.zeros((no_of_class, no_of_features))\n",
    "    \n",
    "\n",
    "    for document in range(no_of_class):\n",
    "        word_counts = np.zeros(no_of_features) + alpha\n",
    "        count_document = alpha * no_of_features\n",
    "        \n",
    "\n",
    "        for i in range(len(y_train_np)):\n",
    "            if y_train_np[i] == document: \n",
    "                sample_features = np.array(x_train_np[i], dtype=float).flatten() \n",
    "                word_counts += sample_features\n",
    "                count_document += sample_features.sum()\n",
    "        \n",
    "        likelihoods[document] = np.log(word_counts) - np.log(count_document)\n",
    "        likelihoods[document][likelihoods[document] == -np.inf] = -1e12  \n",
    "\n",
    "    return likelihoods\n",
    "\n",
    "def posterior_multinomial(x_test, log_prior, log_likelihoods):\n",
    "    predictions = []\n",
    "    no_of_classes = log_prior.shape[0]\n",
    "    for _, document in x_test.iterrows():\n",
    "        max_log_prob = -np.inf\n",
    "        max_index = -1\n",
    "        for c in range(no_of_classes):\n",
    "            log_prob = log_prior[c] + np.dot(document, log_likelihoods.iloc[c, :])\n",
    "            if log_prob > max_log_prob:\n",
    "                max_log_prob = log_prob\n",
    "                max_index = c\n",
    "        predictions.append(max_index)\n",
    "    return np.array(predictions)\n",
    "\n",
    "def accuracy(test, predicted):\n",
    "    correct = 0\n",
    "    for i in range(len(test)):\n",
    "        if (test[i] == predicted[i]):\n",
    "            correct += 1\n",
    "    \n",
    "    return (correct / len(test))"
   ]
  },
  {
   "cell_type": "code",
   "execution_count": 12,
   "id": "5c958362",
   "metadata": {},
   "outputs": [
    {
     "name": "stderr",
     "output_type": "stream",
     "text": [
      "C:\\Users\\kadir\\AppData\\Local\\Temp\\ipykernel_21544\\3528263612.py:20: RuntimeWarning: divide by zero encountered in log\n",
      "  likelihoods[document] = np.log(word_counts) - np.log(count_document)\n"
     ]
    },
    {
     "name": "stdout",
     "output_type": "stream",
     "text": [
      "Accuracy for the Multinomial Model without Smoothing: 0.581\n",
      "%99.1\n"
     ]
    }
   ],
   "source": [
    "likelihoods = train_multinomial(x_train, y_train)\n",
    "predictions = posterior_multinomial(x_test, np.log(percentages_train), pd.DataFrame(likelihoods))\n",
    "output = accuracy(y_test.to_numpy(), predictions)\n",
    "print(f\"Accuracy for the Multinomial Model without Smoothing: {output:.3f}\")\n",
    "print(f\"%{(0.576 / output) * 100:.1f}\") # To show how my output is close to the expected in the homework document..."
   ]
  },
  {
   "cell_type": "code",
   "execution_count": 13,
   "id": "71bd77a2",
   "metadata": {},
   "outputs": [
    {
     "name": "stdout",
     "output_type": "stream",
     "text": [
      "Accuracy for the Multinomial Model with smoothing (alpha = 1): 0.649\n",
      "%97.6\n"
     ]
    }
   ],
   "source": [
    "likelihoods = train_multinomial(x_train, y_train, 1)\n",
    "predictions = posterior_multinomial(x_test, np.log(percentages_train), pd.DataFrame(likelihoods))\n",
    "output = accuracy(y_test.to_numpy(), predictions)\n",
    "print(f\"Accuracy for the Multinomial Model with smoothing (alpha = 1): {output:.3f}\")\n",
    "print(f\"%{(0.633 / output) * 100:.1f}\") # To show how my output is close to the expected in the homework document..."
   ]
  },
  {
   "cell_type": "markdown",
   "id": "d8fdfb46",
   "metadata": {},
   "source": [
    "# **QUESTION 3.4**\n",
    "**Training Bernoulli Document Model...**"
   ]
  },
  {
   "cell_type": "code",
   "execution_count": 14,
   "id": "2ba45a6f",
   "metadata": {},
   "outputs": [],
   "source": [
    "def train_bernoulli(x_train, y_train, alpha=1):\n",
    "    x_train_np = x_train.to_numpy()\n",
    "    y_train_np = y_train.to_numpy()\n",
    "    \n",
    "    no_of_class = len(np.unique(y_train_np))\n",
    "    no_of_features = x_train.shape[1]\n",
    "    \n",
    "    likelihoods = np.zeros((no_of_class, no_of_features))\n",
    "\n",
    "    for document in range(no_of_class):  \n",
    "        word_counts = np.ones(no_of_features)  \n",
    "        count_document = (y_train[0] == document).sum()  \n",
    "\n",
    "        for i in range(len(y_train_np)):\n",
    "            if y_train_np[i] == document:\n",
    "                word_counts += (x_train_np[i] != 0).astype(int)\n",
    "        \n",
    "        likelihoods[document] = np.log(word_counts / (count_document + 2))\n",
    "        likelihoods[document][likelihoods[document] == -np.inf] = -1e12\n",
    "    \n",
    "    return likelihoods\n",
    "\n",
    "def posterior_bernoulli(x_test, log_prior, log_likelihood):\n",
    "    predictions = []\n",
    "    for _, row in x_test.iterrows():\n",
    "        values = []\n",
    "        for document_type in range(log_prior.shape[0]):\n",
    "            log_prob = log_prior[document_type]\n",
    "            log_prob += np.sum(log_likelihood[document_type][row == 1])\n",
    "            log_prob += np.sum(np.log(1 - np.exp(log_likelihood[document_type][row == 0])))\n",
    "            values.append(log_prob)\n",
    "        predictions.append(np.argmax(values))\n",
    "    return np.array(predictions)"
   ]
  },
  {
   "cell_type": "code",
   "execution_count": 15,
   "id": "e7d8824b",
   "metadata": {},
   "outputs": [
    {
     "name": "stdout",
     "output_type": "stream",
     "text": [
      "Accuracy for the Bernoulli Model with smoothing (alpha = 1):  0.641\n",
      "%99.8\n"
     ]
    }
   ],
   "source": [
    "x_train[x_train > 0] = 1\n",
    "x_test[x_test > 0] = 1\n",
    "\n",
    "likelihoods = train_bernoulli(x_train, y_train)\n",
    "predictions = posterior_bernoulli(x_test, np.log(percentages_train), likelihoods)\n",
    "output = accuracy(y_test.to_numpy(), predictions)\n",
    "print(f\"Accuracy for the Bernoulli Model with smoothing (alpha = 1):  {output:.3f}\")\n",
    "print(f\"%{(output / 0.643) * 100:.1f}\") # To show how my output is close to the expected in the homework document..."
   ]
  },
  {
   "cell_type": "code",
   "execution_count": 16,
   "id": "72891e41",
   "metadata": {},
   "outputs": [
    {
     "name": "stdout",
     "output_type": "stream",
     "text": [
      "Run-Time for three questions : 22 seconds\n"
     ]
    }
   ],
   "source": [
    "# Compute the run-time \n",
    "end_time = datetime.datetime.now()\n",
    "elapsed_time = end_time - start_time\n",
    "print(f\"Run-Time for three questions : {elapsed_time.seconds} seconds\")"
   ]
  },
  {
   "cell_type": "code",
   "execution_count": null,
   "id": "48ffa0eb",
   "metadata": {},
   "outputs": [],
   "source": []
  }
 ],
 "metadata": {
  "kernelspec": {
   "display_name": "Python 3 (ipykernel)",
   "language": "python",
   "name": "python3"
  },
  "language_info": {
   "codemirror_mode": {
    "name": "ipython",
    "version": 3
   },
   "file_extension": ".py",
   "mimetype": "text/x-python",
   "name": "python",
   "nbconvert_exporter": "python",
   "pygments_lexer": "ipython3",
   "version": "3.9.12"
  }
 },
 "nbformat": 4,
 "nbformat_minor": 5
}
